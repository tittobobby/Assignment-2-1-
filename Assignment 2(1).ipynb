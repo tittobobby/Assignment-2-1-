{
 "cells": [
  {
   "cell_type": "code",
   "execution_count": 2,
   "id": "47ce303d",
   "metadata": {},
   "outputs": [
    {
     "name": "stdout",
     "output_type": "stream",
     "text": [
      "Enter number of sets of tuple : 5\n",
      "Enter the elements for 5 sets of tuple.\n",
      "2\n",
      "5\n",
      "1\n",
      "2\n",
      "4\n",
      "4\n",
      "2\n",
      "3\n",
      "2\n",
      "1\n",
      "The original list : \n",
      "[(2, 5), (1, 2), (4, 4), (2, 3), (2, 1)]\n",
      "The sorted list :\n",
      "[(2, 1), (1, 2), (2, 3), (4, 4), (2, 5)]\n"
     ]
    }
   ],
   "source": [
    "#Write a Python program to get a list, sorted in increasing order by the last element in each tuple from a given list of non-empty tuples\n",
    "\n",
    "lst = []\n",
    "number = int(input(\"Enter number of sets of tuple : \"))\n",
    "print(f\"Enter the elements for {number} sets of tuple.\")\n",
    "  \n",
    "for i in range(0, number):\n",
    "    ele = [int(input()), int(input())]\n",
    "    ele1 = tuple(ele)\n",
    "    lst.append(ele1)\n",
    "print(\"The original list : \")\n",
    "print(lst)\n",
    "for i in range(0,len(lst)):\n",
    "    for j in range(0, len(lst)-i-1):\n",
    "        if(lst[j][-1]>lst[j+1][-1]):\n",
    "            temp = lst[j]\n",
    "            lst[j] = lst[j+1]\n",
    "            lst[j+1] = temp\n",
    "print(\"The sorted list :\")\n",
    "print(lst)\n",
    "\n"
   ]
  },
  {
   "cell_type": "code",
   "execution_count": null,
   "id": "7eb1b3ec",
   "metadata": {},
   "outputs": [],
   "source": []
  }
 ],
 "metadata": {
  "kernelspec": {
   "display_name": "Python 3 (ipykernel)",
   "language": "python",
   "name": "python3"
  },
  "language_info": {
   "codemirror_mode": {
    "name": "ipython",
    "version": 3
   },
   "file_extension": ".py",
   "mimetype": "text/x-python",
   "name": "python",
   "nbconvert_exporter": "python",
   "pygments_lexer": "ipython3",
   "version": "3.9.12"
  }
 },
 "nbformat": 4,
 "nbformat_minor": 5
}
